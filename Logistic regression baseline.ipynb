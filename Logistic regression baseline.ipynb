{
 "cells": [
  {
   "cell_type": "code",
   "execution_count": 1,
   "metadata": {},
   "outputs": [],
   "source": [
    "import numpy as np\n",
    "import matplotlib.pyplot as plt\n",
    "import random\n",
    "import gzip\n",
    "from sklearn.model_selection import train_test_split\n",
    "from sklearn.preprocessing import MinMaxScaler \n",
    "from sklearn.linear_model import LogisticRegression\n",
    "from IPython.display import display, Markdown\n",
    "%matplotlib inline"
   ]
  },
  {
   "cell_type": "code",
   "execution_count": 2,
   "metadata": {},
   "outputs": [],
   "source": [
    "#Function for loading data\n",
    "def read_data(file):\n",
    "    with gzip.open(file,'rb') as f:\n",
    "        if \"label\" in file: \n",
    "            x = np.frombuffer(f.read(),'B',offset = 8).reshape(-1,1)\n",
    "        else:\n",
    "            x = np.frombuffer(f.read(),'B',offset = 16).reshape(-1,784)/255\n",
    "    return x"
   ]
  },
  {
   "cell_type": "code",
   "execution_count": 3,
   "metadata": {},
   "outputs": [],
   "source": [
    "x_train = read_data('train-images-idx3-ubyte.gz')\n",
    "ytrain = read_data('train-labels-idx1-ubyte.gz')\n",
    "x_test = read_data('t10k-images-idx3-ubyte.gz')\n",
    "ytest = read_data('t10k-labels-idx1-ubyte.gz')"
   ]
  },
  {
   "cell_type": "code",
   "execution_count": 4,
   "metadata": {
    "scrolled": true
   },
   "outputs": [
    {
     "data": {
      "image/png": "[encoded data removed]",
      "text/plain": [
       "<Figure size 1080x720 with 5 Axes>"
      ]
     },
     "metadata": {
      "needs_background": "light"
     },
     "output_type": "display_data"
    }
   ],
   "source": [
    "#Displaying random training set examples with labels\n",
    "ind = random.sample(range(0,x_train.shape[0]),5)\n",
    "fig = plt.figure(figsize=(15,10))\n",
    "for i,index in enumerate(ind):\n",
    "    num = x_train[index].reshape(28,28)\n",
    "    label = ytrain[index][0]\n",
    "    ax = fig.add_subplot(1,5,i+1)\n",
    "    ax.set_xlabel('Label: {}'.format(label))\n",
    "    plt.imshow(num,cmap='gray')"
   ]
  },
  {
   "cell_type": "code",
   "execution_count": 5,
   "metadata": {},
   "outputs": [],
   "source": [
    "#Splitting into train and validation sets\n",
    "x_train,x_val,y_train,y_val = train_test_split(x_train,ytrain,test_size = 0.25)"
   ]
  },
  {
   "cell_type": "code",
   "execution_count": 6,
   "metadata": {},
   "outputs": [],
   "source": [
    "#Function for calculating accuracy\n",
    "def accuracy(pred,true):\n",
    "    count = 0\n",
    "    for i in range(len(pred)):\n",
    "        if pred[i] == true[i]:\n",
    "            count += 1\n",
    "    return count/len(pred)"
   ]
  },
  {
   "cell_type": "code",
   "execution_count": 7,
   "metadata": {},
   "outputs": [
    {
     "name": "stdout",
     "output_type": "stream",
     "text": [
      "Accuracy on the validation set: 91.86%\n"
     ]
    }
   ],
   "source": [
    "#Logistic regression model\n",
    "clf = LogisticRegression(solver = 'lbfgs',multi_class='multinomial',max_iter = 2500)\n",
    "clf.fit(x_train,y_train.ravel())\n",
    "preds = clf.predict(x_val)\n",
    "print(\"Accuracy on the validation set: {}%\".format(accuracy(preds,y_val)*100))"
   ]
  },
  {
   "cell_type": "code",
   "execution_count": 8,
   "metadata": {},
   "outputs": [
    {
     "name": "stdout",
     "output_type": "stream",
     "text": [
      "Accuracy on the test set: 92.4%\n"
     ]
    }
   ],
   "source": [
    "#Fitting model to test set\n",
    "test_preds = clf.predict(x_test)\n",
    "print(\"Accuracy on the test set: {}%\".format(accuracy(test_preds,ytest)*100))"
   ]
  },
  {
   "cell_type": "code",
   "execution_count": 9,
   "metadata": {},
   "outputs": [],
   "source": [
    "#Storing misclassified test images\n",
    "wrong_test_nums = []\n",
    "for i in range(len(test_preds)):\n",
    "    if test_preds[i]!=ytest[i]:\n",
    "        wrong_test_nums.append(i)"
   ]
  },
  {
   "cell_type": "code",
   "execution_count": 10,
   "metadata": {},
   "outputs": [
    {
     "data": {
      "text/markdown": [
       "<h4>5 Incorrectly labelled test set examples</h4>"
      ],
      "text/plain": [
       "<IPython.core.display.Markdown object>"
      ]
     },
     "metadata": {},
     "output_type": "display_data"
    },
    {
     "data": {
      "image/png": "[encoded data removed]",
      "text/plain": [
       "<Figure size 1080x720 with 5 Axes>"
      ]
     },
     "metadata": {
      "needs_background": "light"
     },
     "output_type": "display_data"
    }
   ],
   "source": [
    "#Displaying 5 incorrectly classified test images\n",
    "display(Markdown(\"<h4>5 Incorrectly labelled test set examples</h4>\"))\n",
    "fig = plt.figure(figsize=(15,10))\n",
    "ind = random.sample(wrong_test_nums,5)\n",
    "for i, index in enumerate(ind):\n",
    "    num = x_test[index].reshape(28,28)\n",
    "    ax = fig.add_subplot(1,5,i+1)\n",
    "    plt.imshow(num,cmap='gray')\n",
    "    ax.set_xlabel(\"True Label: {}\\nPrediction: {}\".format(ytest[index][0],test_preds[index]))"
   ]
  },
  {
   "cell_type": "code",
   "execution_count": null,
   "metadata": {},
   "outputs": [],
   "source": []
  }
 ],
 "metadata": {
  "kernelspec": {
   "display_name": "Python 3",
   "language": "python",
   "name": "python3"
  },
  "language_info": {
   "codemirror_mode": {
    "name": "ipython",
    "version": 3
   },
   "file_extension": ".py",
   "mimetype": "text/x-python",
   "name": "python",
   "nbconvert_exporter": "python",
   "pygments_lexer": "ipython3",
   "version": "3.7.1"
  }
 },
 "nbformat": 4,
 "nbformat_minor": 2
}
